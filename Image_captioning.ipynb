{
  "cells": [
    {
      "cell_type": "markdown",
      "source": [
        "# Tải và Import các thư viện cần thiết"
      ],
      "metadata": {
        "id": "u6vd3rdoL0Lr"
      }
    },
    {
      "cell_type": "code",
      "execution_count": null,
      "metadata": {
        "colab": {
          "base_uri": "https://localhost:8080/"
        },
        "id": "gnrwk4j60wVN",
        "outputId": "4be1da46-f360-4b10-ccbe-02305338fb52"
      },
      "outputs": [
        {
          "output_type": "stream",
          "name": "stdout",
          "text": [
            "Looking in indexes: https://pypi.org/simple, https://us-python.pkg.dev/colab-wheels/public/simple/\n",
            "Requirement already satisfied: tensorflow in /usr/local/lib/python3.9/dist-packages (2.11.0)\n",
            "Requirement already satisfied: keras in /usr/local/lib/python3.9/dist-packages (2.11.0)\n",
            "Requirement already satisfied: pillow in /usr/local/lib/python3.9/dist-packages (8.4.0)\n",
            "Requirement already satisfied: numpy in /usr/local/lib/python3.9/dist-packages (1.22.4)\n",
            "Requirement already satisfied: tqdm in /usr/local/lib/python3.9/dist-packages (4.65.0)\n",
            "Collecting underthesea\n",
            "  Downloading underthesea-6.2.0-py3-none-any.whl (19.2 MB)\n",
            "\u001b[2K     \u001b[90m━━━━━━━━━━━━━━━━━━━━━━━━━━━━━━━━━━━━━━━━\u001b[0m \u001b[32m19.2/19.2 MB\u001b[0m \u001b[31m41.8 MB/s\u001b[0m eta \u001b[36m0:00:00\u001b[0m\n",
            "\u001b[?25hRequirement already satisfied: gensim in /usr/local/lib/python3.9/dist-packages (3.6.0)\n",
            "Collecting fasttext\n",
            "  Downloading fasttext-0.9.2.tar.gz (68 kB)\n",
            "\u001b[2K     \u001b[90m━━━━━━━━━━━━━━━━━━━━━━━━━━━━━━━━━━━━━━━━\u001b[0m \u001b[32m68.8/68.8 KB\u001b[0m \u001b[31m5.0 MB/s\u001b[0m eta \u001b[36m0:00:00\u001b[0m\n",
            "\u001b[?25h  Preparing metadata (setup.py) ... \u001b[?25l\u001b[?25hdone\n",
            "Requirement already satisfied: nltk in /usr/local/lib/python3.9/dist-packages (3.8.1)\n",
            "Requirement already satisfied: termcolor>=1.1.0 in /usr/local/lib/python3.9/dist-packages (from tensorflow) (2.2.0)\n",
            "Requirement already satisfied: google-pasta>=0.1.1 in /usr/local/lib/python3.9/dist-packages (from tensorflow) (0.2.0)\n",
            "Requirement already satisfied: flatbuffers>=2.0 in /usr/local/lib/python3.9/dist-packages (from tensorflow) (23.3.3)\n",
            "Requirement already satisfied: packaging in /usr/local/lib/python3.9/dist-packages (from tensorflow) (23.0)\n",
            "Requirement already satisfied: setuptools in /usr/local/lib/python3.9/dist-packages (from tensorflow) (63.4.3)\n",
            "Requirement already satisfied: gast<=0.4.0,>=0.2.1 in /usr/local/lib/python3.9/dist-packages (from tensorflow) (0.4.0)\n",
            "Requirement already satisfied: typing-extensions>=3.6.6 in /usr/local/lib/python3.9/dist-packages (from tensorflow) (4.5.0)\n",
            "Requirement already satisfied: grpcio<2.0,>=1.24.3 in /usr/local/lib/python3.9/dist-packages (from tensorflow) (1.51.3)\n",
            "Requirement already satisfied: tensorflow-io-gcs-filesystem>=0.23.1 in /usr/local/lib/python3.9/dist-packages (from tensorflow) (0.31.0)\n",
            "Requirement already satisfied: tensorflow-estimator<2.12,>=2.11.0 in /usr/local/lib/python3.9/dist-packages (from tensorflow) (2.11.0)\n",
            "Requirement already satisfied: protobuf<3.20,>=3.9.2 in /usr/local/lib/python3.9/dist-packages (from tensorflow) (3.19.6)\n",
            "Requirement already satisfied: opt-einsum>=2.3.2 in /usr/local/lib/python3.9/dist-packages (from tensorflow) (3.3.0)\n",
            "Requirement already satisfied: astunparse>=1.6.0 in /usr/local/lib/python3.9/dist-packages (from tensorflow) (1.6.3)\n",
            "Requirement already satisfied: absl-py>=1.0.0 in /usr/local/lib/python3.9/dist-packages (from tensorflow) (1.4.0)\n",
            "Requirement already satisfied: six>=1.12.0 in /usr/local/lib/python3.9/dist-packages (from tensorflow) (1.15.0)\n",
            "Requirement already satisfied: wrapt>=1.11.0 in /usr/local/lib/python3.9/dist-packages (from tensorflow) (1.15.0)\n",
            "Requirement already satisfied: tensorboard<2.12,>=2.11 in /usr/local/lib/python3.9/dist-packages (from tensorflow) (2.11.2)\n",
            "Requirement already satisfied: libclang>=13.0.0 in /usr/local/lib/python3.9/dist-packages (from tensorflow) (15.0.6.1)\n",
            "Requirement already satisfied: h5py>=2.9.0 in /usr/local/lib/python3.9/dist-packages (from tensorflow) (3.8.0)\n",
            "Requirement already satisfied: requests in /usr/local/lib/python3.9/dist-packages (from underthesea) (2.27.1)\n",
            "Collecting python-crfsuite>=0.9.6\n",
            "  Downloading python_crfsuite-0.9.9-cp39-cp39-manylinux_2_17_x86_64.manylinux2014_x86_64.whl (1.0 MB)\n",
            "\u001b[2K     \u001b[90m━━━━━━━━━━━━━━━━━━━━━━━━━━━━━━━━━━━━━━━━\u001b[0m \u001b[32m1.0/1.0 MB\u001b[0m \u001b[31m68.3 MB/s\u001b[0m eta \u001b[36m0:00:00\u001b[0m\n",
            "\u001b[?25hRequirement already satisfied: Click>=6.0 in /usr/local/lib/python3.9/dist-packages (from underthesea) (8.1.3)\n",
            "Collecting underthesea-core==1.0.0\n",
            "  Downloading underthesea_core-1.0.0-cp39-cp39-manylinux2010_x86_64.whl (599 kB)\n",
            "\u001b[2K     \u001b[90m━━━━━━━━━━━━━━━━━━━━━━━━━━━━━━━━━━━━━━\u001b[0m \u001b[32m599.6/599.6 KB\u001b[0m \u001b[31m43.0 MB/s\u001b[0m eta \u001b[36m0:00:00\u001b[0m\n",
            "\u001b[?25hRequirement already satisfied: joblib in /usr/local/lib/python3.9/dist-packages (from underthesea) (1.1.1)\n",
            "Requirement already satisfied: PyYAML in /usr/local/lib/python3.9/dist-packages (from underthesea) (6.0)\n",
            "Requirement already satisfied: scikit-learn in /usr/local/lib/python3.9/dist-packages (from underthesea) (1.2.2)\n",
            "Requirement already satisfied: smart-open>=1.2.1 in /usr/local/lib/python3.9/dist-packages (from gensim) (6.3.0)\n",
            "Requirement already satisfied: scipy>=0.18.1 in /usr/local/lib/python3.9/dist-packages (from gensim) (1.10.1)\n",
            "Collecting pybind11>=2.2\n",
            "  Using cached pybind11-2.10.4-py3-none-any.whl (222 kB)\n",
            "Requirement already satisfied: regex>=2021.8.3 in /usr/local/lib/python3.9/dist-packages (from nltk) (2022.10.31)\n",
            "Requirement already satisfied: wheel<1.0,>=0.23.0 in /usr/local/lib/python3.9/dist-packages (from astunparse>=1.6.0->tensorflow) (0.40.0)\n",
            "Requirement already satisfied: markdown>=2.6.8 in /usr/local/lib/python3.9/dist-packages (from tensorboard<2.12,>=2.11->tensorflow) (3.4.1)\n",
            "Requirement already satisfied: google-auth-oauthlib<0.5,>=0.4.1 in /usr/local/lib/python3.9/dist-packages (from tensorboard<2.12,>=2.11->tensorflow) (0.4.6)\n",
            "Requirement already satisfied: tensorboard-plugin-wit>=1.6.0 in /usr/local/lib/python3.9/dist-packages (from tensorboard<2.12,>=2.11->tensorflow) (1.8.1)\n",
            "Requirement already satisfied: tensorboard-data-server<0.7.0,>=0.6.0 in /usr/local/lib/python3.9/dist-packages (from tensorboard<2.12,>=2.11->tensorflow) (0.6.1)\n",
            "Requirement already satisfied: werkzeug>=1.0.1 in /usr/local/lib/python3.9/dist-packages (from tensorboard<2.12,>=2.11->tensorflow) (2.2.3)\n",
            "Requirement already satisfied: google-auth<3,>=1.6.3 in /usr/local/lib/python3.9/dist-packages (from tensorboard<2.12,>=2.11->tensorflow) (2.16.2)\n",
            "Requirement already satisfied: urllib3<1.27,>=1.21.1 in /usr/local/lib/python3.9/dist-packages (from requests->underthesea) (1.26.15)\n",
            "Requirement already satisfied: idna<4,>=2.5 in /usr/local/lib/python3.9/dist-packages (from requests->underthesea) (3.4)\n",
            "Requirement already satisfied: certifi>=2017.4.17 in /usr/local/lib/python3.9/dist-packages (from requests->underthesea) (2022.12.7)\n",
            "Requirement already satisfied: charset-normalizer~=2.0.0 in /usr/local/lib/python3.9/dist-packages (from requests->underthesea) (2.0.12)\n",
            "Requirement already satisfied: threadpoolctl>=2.0.0 in /usr/local/lib/python3.9/dist-packages (from scikit-learn->underthesea) (3.1.0)\n",
            "Requirement already satisfied: rsa<5,>=3.1.4 in /usr/local/lib/python3.9/dist-packages (from google-auth<3,>=1.6.3->tensorboard<2.12,>=2.11->tensorflow) (4.9)\n",
            "Requirement already satisfied: cachetools<6.0,>=2.0.0 in /usr/local/lib/python3.9/dist-packages (from google-auth<3,>=1.6.3->tensorboard<2.12,>=2.11->tensorflow) (5.3.0)\n",
            "Requirement already satisfied: pyasn1-modules>=0.2.1 in /usr/local/lib/python3.9/dist-packages (from google-auth<3,>=1.6.3->tensorboard<2.12,>=2.11->tensorflow) (0.2.8)\n",
            "Requirement already satisfied: requests-oauthlib>=0.7.0 in /usr/local/lib/python3.9/dist-packages (from google-auth-oauthlib<0.5,>=0.4.1->tensorboard<2.12,>=2.11->tensorflow) (1.3.1)\n",
            "Requirement already satisfied: importlib-metadata>=4.4 in /usr/local/lib/python3.9/dist-packages (from markdown>=2.6.8->tensorboard<2.12,>=2.11->tensorflow) (6.0.0)\n",
            "Requirement already satisfied: MarkupSafe>=2.1.1 in /usr/local/lib/python3.9/dist-packages (from werkzeug>=1.0.1->tensorboard<2.12,>=2.11->tensorflow) (2.1.2)\n",
            "Requirement already satisfied: zipp>=0.5 in /usr/local/lib/python3.9/dist-packages (from importlib-metadata>=4.4->markdown>=2.6.8->tensorboard<2.12,>=2.11->tensorflow) (3.15.0)\n",
            "Requirement already satisfied: pyasn1<0.5.0,>=0.4.6 in /usr/local/lib/python3.9/dist-packages (from pyasn1-modules>=0.2.1->google-auth<3,>=1.6.3->tensorboard<2.12,>=2.11->tensorflow) (0.4.8)\n",
            "Requirement already satisfied: oauthlib>=3.0.0 in /usr/local/lib/python3.9/dist-packages (from requests-oauthlib>=0.7.0->google-auth-oauthlib<0.5,>=0.4.1->tensorboard<2.12,>=2.11->tensorflow) (3.2.2)\n",
            "Building wheels for collected packages: fasttext\n",
            "  Building wheel for fasttext (setup.py) ... \u001b[?25l\u001b[?25hdone\n",
            "  Created wheel for fasttext: filename=fasttext-0.9.2-cp39-cp39-linux_x86_64.whl size=4395840 sha256=3c6986f2895b474c4ae5ee3c42592295fd97651f3f5aab0ada5a8b1ae9b850d6\n",
            "  Stored in directory: /root/.cache/pip/wheels/64/57/bc/1741406019061d5664914b070bd3e71f6244648732bc96109e\n",
            "Successfully built fasttext\n",
            "Installing collected packages: underthesea-core, python-crfsuite, pybind11, fasttext, underthesea\n",
            "Successfully installed fasttext-0.9.2 pybind11-2.10.4 python-crfsuite-0.9.9 underthesea-6.2.0 underthesea-core-1.0.0\n"
          ]
        }
      ],
      "source": [
        "!pip install tensorflow keras pillow numpy tqdm underthesea gensim fasttext nltk"
      ]
    },
    {
      "cell_type": "code",
      "source": [
        "from google.colab import drive\n",
        "drive.mount('/content/drive')"
      ],
      "metadata": {
        "colab": {
          "base_uri": "https://localhost:8080/"
        },
        "id": "9XEZdVrKWlHc",
        "outputId": "f2f3e579-f48d-4c3a-fce4-f14575df71fb"
      },
      "execution_count": null,
      "outputs": [
        {
          "output_type": "stream",
          "name": "stdout",
          "text": [
            "Mounted at /content/drive\n"
          ]
        }
      ]
    },
    {
      "cell_type": "code",
      "execution_count": null,
      "metadata": {
        "id": "JjDgEzhMyb8-"
      },
      "outputs": [],
      "source": [
        "%%capture\n",
        "import os\n",
        "import sys\n",
        "import string\n",
        "import fasttext\n",
        "import numpy as np\n",
        "import tensorflow as tf\n",
        "\n",
        "import warnings\n",
        "warnings.filterwarnings('ignore')\n",
        "\n",
        "import pickle\n",
        "from pickle import dump, load\n",
        "from underthesea import word_tokenize\n",
        "from gensim.utils import simple_preprocess\n",
        "\n",
        "from keras.preprocessing.text import Tokenizer\n",
        "from keras.utils import load_img, img_to_array\n",
        "from tensorflow.keras.preprocessing.sequence import pad_sequences\n",
        "\n",
        "# from keras.applications.xception import Xception, preprocess_input\n",
        "import keras.utils as image\n",
        "from keras.layers import (Input, Dense, LSTM, Embedding, Dropout, Bidirectional, add, Layer, MultiHeadAttention,\n",
        "                          LayerNormalization, Flatten, Conv1D, MaxPooling1D, BatchNormalization, GlobalMaxPooling1D, concatenate)\n",
        "from keras.initializers import Constant\n",
        "from keras.models import Model, load_model\n",
        "from keras.utils.vis_utils import plot_model\n",
        "from keras.regularizers import l2\n",
        "\n",
        "from tensorflow.keras.applications.resnet50 import ResNet50, preprocess_input\n",
        "from tensorflow.keras.layers import Bidirectional\n",
        "from tensorflow.keras.optimizers import Adam\n",
        "from tensorflow.keras.losses import CategoricalCrossentropy\n",
        "from tensorflow.keras.utils import to_categorical\n",
        "\n",
        "from tqdm.notebook import tqdm\n",
        "from nltk.translate.bleu_score import corpus_bleu"
      ]
    },
    {
      "cell_type": "markdown",
      "source": [
        "# Tiền xử lý dữ liệu"
      ],
      "metadata": {
        "id": "W_ISzDC7L4py"
      }
    },
    {
      "cell_type": "code",
      "execution_count": null,
      "metadata": {
        "id": "_iJe1u_byhKN"
      },
      "outputs": [],
      "source": [
        "image_dir = '/content/drive/MyDrive/Deep learning/Midterm/Data/Images/'\n",
        "text_file = '/content/drive/MyDrive/Deep learning/Midterm/Data/captions_vi.txt'\n",
        "train_image_dir = '/content/drive/MyDrive/Deep learning/Midterm/Data/trainImgaes.txt'\n",
        "test_image_dir = '/content/drive/MyDrive/Deep learning/Midterm/Data/testImages.txt'\n",
        "embedding_model_dir = '/content/drive/MyDrive/Deep learning/Midterm/Data/cc.vi.300.bin'"
      ]
    },
    {
      "cell_type": "code",
      "execution_count": null,
      "metadata": {
        "id": "_sBymIen1qiM"
      },
      "outputs": [],
      "source": [
        "def load_doc(filename):\n",
        "  file = open(filename, 'r', encoding='utf-8')\n",
        "  text = file.read()\n",
        "  file.close()\n",
        "  return text"
      ]
    },
    {
      "cell_type": "code",
      "execution_count": null,
      "metadata": {
        "id": "XaosHfKN1sol"
      },
      "outputs": [],
      "source": [
        "def all_img_captions(filename):\n",
        "  file = load_doc(filename)\n",
        "  captions = file.split('\\n')\n",
        "  descriptions = dict()\n",
        "  for caption in captions[:-1]:\n",
        "      img, cap = caption.split('\\t')\n",
        "      if img not in descriptions:\n",
        "          descriptions[img] = [cap]\n",
        "      else:\n",
        "          descriptions[img].append(cap)\n",
        "  return descriptions"
      ]
    },
    {
      "cell_type": "code",
      "execution_count": null,
      "metadata": {
        "id": "JQfgfKEt1w_3"
      },
      "outputs": [],
      "source": [
        "def cleaning_text(descriptions):\n",
        "  table = str.maketrans('', '', string.punctuation)\n",
        "  for img, captions in descriptions.items():\n",
        "      for idx, cap in enumerate(captions):\n",
        "          desc = cap.replace(' - ', ' ').translate(table)\n",
        "          desc = ' '.join(simple_preprocess(desc))\n",
        "          desc = word_tokenize(desc, format='text')\n",
        "\n",
        "          descriptions[img][idx] = desc\n",
        "  return descriptions"
      ]
    },
    {
      "cell_type": "code",
      "execution_count": null,
      "metadata": {
        "id": "VxJgADgv10Fz"
      },
      "outputs": [],
      "source": [
        "def text_vocabulary(descriptions):\n",
        "  vocab = set()\n",
        "  for key in descriptions.keys():\n",
        "      [vocab.update(desc.split()) for desc in descriptions[key]]\n",
        "  return vocab"
      ]
    },
    {
      "cell_type": "code",
      "execution_count": null,
      "metadata": {
        "id": "mbp5udhZ1232"
      },
      "outputs": [],
      "source": [
        "def save_descriptions(descriptions, filename):\n",
        "  lines = list()\n",
        "  for key, captions in descriptions.items():\n",
        "      for cap in captions:\n",
        "          lines.append(key + '\\t' + cap)\n",
        "  data = '\\n'.join(lines)\n",
        "  file = open(filename, 'w', encoding='utf-8')\n",
        "  file.write(data)\n",
        "  file.close()"
      ]
    },
    {
      "cell_type": "code",
      "execution_count": null,
      "metadata": {
        "colab": {
          "base_uri": "https://localhost:8080/"
        },
        "id": "i9Ml0C8115hu",
        "outputId": "410fef0b-d5ed-498a-d246-e48648ead3e6"
      },
      "outputs": [
        {
          "output_type": "stream",
          "name": "stdout",
          "text": [
            "Length of descriptions: 8000\n",
            "Description before clean text\n"
          ]
        },
        {
          "output_type": "execute_result",
          "data": {
            "text/plain": [
              "['Một cậu bé với một cái chao kim loại trên đầu ',\n",
              " ' Một chú hề nhỏ với chiếc chao trên đầu',\n",
              " ' Một cậu bé điên có một cái bát trên đầu',\n",
              " ' Một cậu bé đội một chiếc chao kim loại trên đầu',\n",
              " ' Cậu bé mặc áo sơ mi sọc này đang đặt một cái rây trên đầu']"
            ]
          },
          "metadata": {},
          "execution_count": 10
        }
      ],
      "source": [
        "sample_image = '2423292784_166ee54e0b.jpg'\n",
        "descriptions = all_img_captions(text_file)\n",
        "print('Length of descriptions:', len(descriptions))\n",
        "print('Description before clean text')\n",
        "descriptions[sample_image]"
      ]
    },
    {
      "cell_type": "code",
      "execution_count": null,
      "metadata": {
        "colab": {
          "base_uri": "https://localhost:8080/"
        },
        "id": "WKjTAXhA2JXA",
        "outputId": "197007b9-9ddc-4940-a29b-305236f16d23"
      },
      "outputs": [
        {
          "output_type": "stream",
          "name": "stdout",
          "text": [
            "Descriptions after clean text\n"
          ]
        },
        {
          "output_type": "execute_result",
          "data": {
            "text/plain": [
              "['một cậu bé với một cái chao kim_loại trên đầu',\n",
              " 'một chú hề nhỏ với chiếc chao trên đầu',\n",
              " 'một cậu bé điên có một cái bát trên đầu',\n",
              " 'một cậu bé đội một chiếc chao kim_loại trên đầu',\n",
              " 'cậu bé mặc áo sơ_mi sọc này đang đặt một cái rây trên đầu']"
            ]
          },
          "metadata": {},
          "execution_count": 11
        }
      ],
      "source": [
        "clean_descriptions = cleaning_text(descriptions)\n",
        "print('Descriptions after clean text')\n",
        "clean_descriptions[sample_image]"
      ]
    },
    {
      "cell_type": "code",
      "execution_count": null,
      "metadata": {
        "colab": {
          "base_uri": "https://localhost:8080/"
        },
        "id": "bsddjBsf2XBC",
        "outputId": "953e9179-4fff-483c-f969-3d2af757a074"
      },
      "outputs": [
        {
          "output_type": "stream",
          "name": "stdout",
          "text": [
            "Length of vocabuary: 5562\n"
          ]
        }
      ],
      "source": [
        "vocab = text_vocabulary(clean_descriptions)\n",
        "print('Length of vocabuary:', len(vocab))"
      ]
    },
    {
      "cell_type": "code",
      "execution_count": null,
      "metadata": {
        "id": "Dod9m5o92Z3j"
      },
      "outputs": [],
      "source": [
        "save_descriptions(clean_descriptions, 'descriptions.txt')"
      ]
    },
    {
      "cell_type": "markdown",
      "source": [
        "# Trích xuất đặc trưng từ ảnh"
      ],
      "metadata": {
        "id": "rk_5ez9bL9oR"
      }
    },
    {
      "cell_type": "code",
      "execution_count": null,
      "metadata": {
        "id": "WUKz6DeU2e_B"
      },
      "outputs": [],
      "source": [
        "def extract_features(directory):\n",
        "  model = ResNet50(weights='imagenet')\n",
        "  model = Model(model.input, model.layers[-2].output)\n",
        "\n",
        "  features = dict()\n",
        "  for img in tqdm(os.listdir(directory), file=sys.stdout):\n",
        "    filename = directory + '/' + img\n",
        "    image = load_img(filename, target_size=(224, 224))\n",
        "    image = img_to_array(image)\n",
        "    image = np.expand_dims(image, axis=0)\n",
        "    image = preprocess_input(image)\n",
        "\n",
        "    feature = model.predict(image, verbose=0)\n",
        "    features[img] = feature\n",
        "  return features"
      ]
    },
    {
      "cell_type": "code",
      "execution_count": null,
      "metadata": {
        "id": "DC7ej9UN2hiw"
      },
      "outputs": [],
      "source": [
        "#features = extract_features(image_dir)"
      ]
    },
    {
      "cell_type": "code",
      "execution_count": null,
      "metadata": {
        "id": "Q129FSxPboxT"
      },
      "outputs": [],
      "source": [
        "# Save features as a pickle file in the \"data\" folder\n",
        "#output_path = os.path.join('/content/drive/MyDrive/Deep learning/Midterm/Data', 'features.pkl')\n",
        "#with open(output_path, 'wb') as f:\n",
        "#  pickle.dump(features, f)"
      ]
    },
    {
      "cell_type": "code",
      "source": [
        "feature_path = '/content/drive/MyDrive/Deep learning/Midterm/Data/features.pkl'"
      ],
      "metadata": {
        "id": "PK1e5NHh-2X3"
      },
      "execution_count": null,
      "outputs": []
    },
    {
      "cell_type": "code",
      "source": [
        "features = load(open(feature_path, 'rb'))"
      ],
      "metadata": {
        "id": "f21wln3L8jW3"
      },
      "execution_count": null,
      "outputs": []
    },
    {
      "cell_type": "markdown",
      "source": [
        "# Chuẩn bị dữ liệu huấn luyện"
      ],
      "metadata": {
        "id": "DEnOjWatMCwK"
      }
    },
    {
      "cell_type": "code",
      "execution_count": null,
      "metadata": {
        "id": "k9NlKRgi4P1-"
      },
      "outputs": [],
      "source": [
        "def load_photos(filename):\n",
        "  file = load_doc(filename)\n",
        "  photos = file.split('\\n')\n",
        "  return photos"
      ]
    },
    {
      "cell_type": "code",
      "execution_count": null,
      "metadata": {
        "id": "_O6IASgV8RID"
      },
      "outputs": [],
      "source": [
        "def load_descriptions(filename, photos):\n",
        "  file = load_doc(filename)\n",
        "  descriptions = dict()\n",
        "  for line in file.split('\\n'):\n",
        "      line = line.split('\\t')\n",
        "\n",
        "      if len(line) < 1:\n",
        "          continue\n",
        "\n",
        "      image, cap = line[0], line[1]\n",
        "      if image in photos:\n",
        "          if image not in descriptions:\n",
        "              descriptions[image] = list()\n",
        "          desc = 'startseq ' + cap + ' endseq'\n",
        "          descriptions[image].append(desc)\n",
        "  return descriptions"
      ]
    },
    {
      "cell_type": "code",
      "execution_count": null,
      "metadata": {
        "id": "oyLn_Cih8UMc"
      },
      "outputs": [],
      "source": [
        "def load_features(photos):\n",
        "  all_features = load(open(feature_path, 'rb'))\n",
        "  features = {img: all_features[img] for img in photos}\n",
        "  return features"
      ]
    },
    {
      "cell_type": "code",
      "execution_count": null,
      "metadata": {
        "id": "WHK_Nl9FqtkK"
      },
      "outputs": [],
      "source": [
        "train_imgs = load_photos(train_image_dir)\n",
        "train_descriptions = load_descriptions('/content/descriptions.txt', train_imgs)\n",
        "train_features = load_features(train_imgs)\n",
        "\n",
        "test_imgs = load_photos(test_image_dir)\n",
        "test_descriptions = load_descriptions('/content/descriptions.txt', test_imgs)\n",
        "test_features = load_features(test_imgs)"
      ]
    },
    {
      "cell_type": "markdown",
      "source": [
        "#Tokenizer"
      ],
      "metadata": {
        "id": "UlmyzMG-MLSR"
      }
    },
    {
      "cell_type": "code",
      "execution_count": null,
      "metadata": {
        "id": "FZyPQdXGNo-O"
      },
      "outputs": [],
      "source": [
        "def dict_to_list(descriptions):\n",
        "    all_desc = list()\n",
        "    for key in descriptions.keys():\n",
        "        [all_desc.append(desc) for desc in descriptions[key]]\n",
        "    return all_desc"
      ]
    },
    {
      "cell_type": "code",
      "execution_count": null,
      "metadata": {
        "id": "c7oKFfLhNtjo"
      },
      "outputs": [],
      "source": [
        "def create_tokenizer(descriptions):\n",
        "    desc_list = dict_to_list(descriptions)\n",
        "    oov_token = 'unk'\n",
        "    tokenizer = Tokenizer(oov_token=oov_token)\n",
        "    tokenizer.fit_on_texts(desc_list)\n",
        "    return tokenizer"
      ]
    },
    {
      "cell_type": "code",
      "execution_count": null,
      "metadata": {
        "colab": {
          "base_uri": "https://localhost:8080/"
        },
        "id": "JflRYN5RNv2W",
        "outputId": "712e3685-6c85-457d-d313-8d7419e2099d"
      },
      "outputs": [
        {
          "output_type": "stream",
          "name": "stdout",
          "text": [
            "# vocabulary: 3299\n"
          ]
        }
      ],
      "source": [
        "tokenizer = create_tokenizer(train_descriptions)\n",
        "dump(tokenizer, open('tokenizer.pkl', 'wb'))\n",
        "vocab_size = len(tokenizer.word_index) + 1\n",
        "print('# vocabulary:', vocab_size)"
      ]
    },
    {
      "cell_type": "markdown",
      "source": [
        "#Word Embedding"
      ],
      "metadata": {
        "id": "hugJrcdXMPiP"
      }
    },
    {
      "cell_type": "code",
      "execution_count": null,
      "metadata": {
        "colab": {
          "base_uri": "https://localhost:8080/"
        },
        "id": "3utjqjrWNytE",
        "outputId": "abe0405f-b6c5-4c70-b213-7e1bdcf879f4"
      },
      "outputs": [
        {
          "output_type": "stream",
          "name": "stdout",
          "text": [
            "Max length of train set: 41\n"
          ]
        }
      ],
      "source": [
        "def max_length(descriptions):\n",
        "    desc_list = dict_to_list(descriptions)\n",
        "    return max(len(desc.split()) for desc in desc_list)\n",
        "max_length = max_length(descriptions)\n",
        "print('Max length of train set:', max_length)"
      ]
    },
    {
      "cell_type": "code",
      "execution_count": null,
      "metadata": {
        "id": "DpBw5PfJN089"
      },
      "outputs": [],
      "source": [
        "def create_embedding_matrix(vocab):\n",
        "    embedding_index = fasttext.load_model(embedding_model_dir)\n",
        "\n",
        "    embedding_dim = 300\n",
        "    hits = 0\n",
        "    misses = 0\n",
        "    vocab_size = len(vocab) + 1\n",
        "\n",
        "    embedding_matrix = np.zeros((vocab_size, embedding_dim))\n",
        "    for word, idx in vocab.items():\n",
        "        embedding_vector = embedding_index[word]\n",
        "        if embedding_vector is not None:\n",
        "            embedding_matrix[idx] = embedding_vector\n",
        "            hits += 1\n",
        "        else:\n",
        "            misses += 1\n",
        "    print(\"Converted %d words (%d misses)\" % (hits, misses))\n",
        "\n",
        "    return embedding_matrix"
      ]
    },
    {
      "cell_type": "code",
      "execution_count": null,
      "metadata": {
        "colab": {
          "base_uri": "https://localhost:8080/"
        },
        "id": "5o6k_bFveAtL",
        "outputId": "bbc22239-ebfe-44cc-825a-1cf4d9359e63"
      },
      "outputs": [
        {
          "output_type": "stream",
          "name": "stdout",
          "text": [
            "Converted 3298 words (0 misses)\n",
            "(3299, 300)\n"
          ]
        }
      ],
      "source": [
        "%%capture --no-stdout\n",
        "vocab = tokenizer.word_index\n",
        "embedding_matrix = create_embedding_matrix(vocab)\n",
        "print(embedding_matrix.shape)"
      ]
    },
    {
      "cell_type": "markdown",
      "source": [
        "# Sinh dữ liệu"
      ],
      "metadata": {
        "id": "ag145ZS5MUMX"
      }
    },
    {
      "cell_type": "code",
      "execution_count": null,
      "metadata": {
        "id": "Mdp3Aq2geFNS"
      },
      "outputs": [],
      "source": [
        "def data_generator(descriptions, features, tokenizer, max_length, vocab_size, batch_size):\n",
        "    X1, X2, y = list(), list(), list()\n",
        "    n = 0\n",
        "\n",
        "    while True:\n",
        "        for key, captions in descriptions.items():\n",
        "            n += 1\n",
        "            feature = features[key][0]\n",
        "            for caption in captions:\n",
        "                seq = tokenizer.texts_to_sequences([caption])[0]\n",
        "                for i in range(1, len(seq)):\n",
        "                    in_seq, out_seq = seq[:i], seq[i]\n",
        "                    in_seq = pad_sequences([in_seq], maxlen=max_length)[0]\n",
        "                    out_seq = to_categorical([out_seq], num_classes=vocab_size)[0]\n",
        "\n",
        "                    X1.append(feature)\n",
        "                    X2.append(in_seq)\n",
        "                    y.append(out_seq)\n",
        "            if n == batch_size:\n",
        "                X1, X2, y = np.array(X1), np.array(X2), np.array(y)\n",
        "                yield [X1, X2], y\n",
        "                X1, X2, y = list(), list(), list()\n",
        "                n = 0"
      ]
    },
    {
      "cell_type": "code",
      "execution_count": null,
      "metadata": {
        "colab": {
          "base_uri": "https://localhost:8080/"
        },
        "id": "o3j4U51Neo_U",
        "outputId": "aa1f8a1c-d7d5-4247-c290-09892f083698"
      },
      "outputs": [
        {
          "output_type": "execute_result",
          "data": {
            "text/plain": [
              "((2356, 2048), (2356, 41), (2356, 3299))"
            ]
          },
          "metadata": {},
          "execution_count": 28
        }
      ],
      "source": [
        "[a, b], c = next(data_generator(train_descriptions, features, tokenizer, max_length, vocab_size, 32))\n",
        "a.shape, b.shape, c.shape"
      ]
    },
    {
      "cell_type": "markdown",
      "source": [
        "#Định nghĩa mô hình"
      ],
      "metadata": {
        "id": "u8agh3l0MYMF"
      }
    },
    {
      "cell_type": "code",
      "source": [
        "from keras.optimizers import RMSprop\n",
        "\n",
        "def define_model(vocab_size, max_length):\n",
        "  embedding_dim = 300\n",
        "\n",
        "  # Define inputs\n",
        "  inputs1 = Input(shape=(2048,))\n",
        "  inputs2 = Input(shape=(max_length,))\n",
        "\n",
        "  # Add feature extraction layers\n",
        "  fe1 = Dropout(0.5)(inputs1)\n",
        "  fe2 = Dense(512, activation='relu')(fe1)\n",
        "  fe3 = Dense(256, activation='relu')(fe2)\n",
        "\n",
        "  # Add embedding and CNN layers\n",
        "  se1 = Embedding(\n",
        "    vocab_size,g\n",
        "    embedding_dim,\n",
        "    embeddings_initializer=Constant(embedding_matrix),\n",
        "    input_length=max_length,\n",
        "    trainable=False,\n",
        "  )(inputs2)\n",
        "  conv1 = Conv1D(filters=256, kernel_size=5, activation='relu')(se1)\n",
        "  bn1 = BatchNormalization()(conv1)\n",
        "  conv2 = Conv1D(filters=128, kernel_size=5, activation='relu')(bn1)\n",
        "  bn2 = BatchNormalization()(conv2)\n",
        "  conv3 = Conv1D(filters=64, kernel_size=5, activation='relu')(bn2)\n",
        "  bn3 = BatchNormalization()(conv3)\n",
        "  pool1 = MaxPooling1D(pool_size=2)(bn3)\n",
        "  pool2 = GlobalMaxPooling1D()(pool1)\n",
        "\n",
        "  # Add LSTM layers\n",
        "  lstm1 = LSTM(256, return_sequences=True)\n",
        "  lstm2 = LSTM(128, return_sequences=False)\n",
        "\n",
        "  se3 = lstm1(pool1)\n",
        "  se4 = lstm2(se3)\n",
        "\n",
        "  # Concatenate features and LSTM outputs\n",
        "  merge1 = concatenate([fe3, se4])\n",
        "  decoder1 = Dense(256, activation='relu')(merge1)\n",
        "  drop4 = Dropout(0.3)(decoder1)\n",
        "  decoder2 = Dense(128, activation='relu')(drop4)\n",
        "  outputs = Dense(vocab_size, activation='softmax')(decoder2)\n",
        "\n",
        "  model = Model(inputs=[inputs1, inputs2], outputs=outputs)\n",
        "\n",
        "  # Use Adam optimizer\n",
        "  opt = Adam(lr=0.01)\n",
        "  model.compile(loss='categorical_crossentropy', optimizer=opt)\n",
        "\n",
        "  print(model.summary())\n",
        "  plot_model(model, to_file='model.png', show_shapes=True)\n",
        "\n",
        "  return model"
      ],
      "metadata": {
        "id": "ZlT6rbGqplJE"
      },
      "execution_count": null,
      "outputs": []
    },
    {
      "cell_type": "markdown",
      "source": [
        "# Huấn luyện mô hình"
      ],
      "metadata": {
        "id": "go97Y7T_MdBF"
      }
    },
    {
      "cell_type": "code",
      "execution_count": null,
      "metadata": {
        "id": "xf2dMivGe14S",
        "colab": {
          "base_uri": "https://localhost:8080/"
        },
        "outputId": "9b58d31d-7980-446b-f919-7eb4b21db727"
      },
      "outputs": [
        {
          "output_type": "stream",
          "name": "stdout",
          "text": [
            "Dataset:  6000\n",
            "Descriptions: train= 6000\n",
            "Photos: train= 6000\n",
            "Vocabulary Size: 3299\n",
            "Description Length:  41\n"
          ]
        },
        {
          "output_type": "stream",
          "name": "stderr",
          "text": [
            "WARNING:absl:`lr` is deprecated, please use `learning_rate` instead, or use the legacy optimizer, e.g.,tf.keras.optimizers.legacy.Adam.\n"
          ]
        },
        {
          "output_type": "stream",
          "name": "stdout",
          "text": [
            "Model: \"model\"\n",
            "__________________________________________________________________________________________________\n",
            " Layer (type)                   Output Shape         Param #     Connected to                     \n",
            "==================================================================================================\n",
            " input_2 (InputLayer)           [(None, 41)]         0           []                               \n",
            "                                                                                                  \n",
            " embedding (Embedding)          (None, 41, 300)      989700      ['input_2[0][0]']                \n",
            "                                                                                                  \n",
            " conv1d (Conv1D)                (None, 37, 256)      384256      ['embedding[0][0]']              \n",
            "                                                                                                  \n",
            " batch_normalization (BatchNorm  (None, 37, 256)     1024        ['conv1d[0][0]']                 \n",
            " alization)                                                                                       \n",
            "                                                                                                  \n",
            " conv1d_1 (Conv1D)              (None, 33, 128)      163968      ['batch_normalization[0][0]']    \n",
            "                                                                                                  \n",
            " batch_normalization_1 (BatchNo  (None, 33, 128)     512         ['conv1d_1[0][0]']               \n",
            " rmalization)                                                                                     \n",
            "                                                                                                  \n",
            " conv1d_2 (Conv1D)              (None, 29, 64)       41024       ['batch_normalization_1[0][0]']  \n",
            "                                                                                                  \n",
            " input_1 (InputLayer)           [(None, 2048)]       0           []                               \n",
            "                                                                                                  \n",
            " batch_normalization_2 (BatchNo  (None, 29, 64)      256         ['conv1d_2[0][0]']               \n",
            " rmalization)                                                                                     \n",
            "                                                                                                  \n",
            " dropout (Dropout)              (None, 2048)         0           ['input_1[0][0]']                \n",
            "                                                                                                  \n",
            " max_pooling1d (MaxPooling1D)   (None, 14, 64)       0           ['batch_normalization_2[0][0]']  \n",
            "                                                                                                  \n",
            " dense (Dense)                  (None, 512)          1049088     ['dropout[0][0]']                \n",
            "                                                                                                  \n",
            " lstm (LSTM)                    (None, 14, 256)      328704      ['max_pooling1d[0][0]']          \n",
            "                                                                                                  \n",
            " dense_1 (Dense)                (None, 256)          131328      ['dense[0][0]']                  \n",
            "                                                                                                  \n",
            " lstm_1 (LSTM)                  (None, 128)          197120      ['lstm[0][0]']                   \n",
            "                                                                                                  \n",
            " concatenate (Concatenate)      (None, 384)          0           ['dense_1[0][0]',                \n",
            "                                                                  'lstm_1[0][0]']                 \n",
            "                                                                                                  \n",
            " dense_2 (Dense)                (None, 256)          98560       ['concatenate[0][0]']            \n",
            "                                                                                                  \n",
            " dropout_1 (Dropout)            (None, 256)          0           ['dense_2[0][0]']                \n",
            "                                                                                                  \n",
            " dense_3 (Dense)                (None, 128)          32896       ['dropout_1[0][0]']              \n",
            "                                                                                                  \n",
            " dense_4 (Dense)                (None, 3299)         425571      ['dense_3[0][0]']                \n",
            "                                                                                                  \n",
            "==================================================================================================\n",
            "Total params: 3,844,007\n",
            "Trainable params: 2,853,411\n",
            "Non-trainable params: 990,596\n",
            "__________________________________________________________________________________________________\n",
            "None\n"
          ]
        }
      ],
      "source": [
        "print('Dataset: ', len(train_imgs))\n",
        "print('Descriptions: train=', len(train_descriptions))\n",
        "print('Photos: train=', len(train_features))\n",
        "print('Vocabulary Size:', vocab_size)\n",
        "print('Description Length: ', max_length)\n",
        "\n",
        "model = define_model(vocab_size, max_length)\n",
        "epochs = 50\n",
        "batch_size = 32\n",
        "steps = len(train_imgs) // batch_size"
      ]
    },
    {
      "cell_type": "code",
      "execution_count": null,
      "metadata": {
        "id": "r80y2dFEe5sr"
      },
      "outputs": [],
      "source": [
        "for i in range(epochs):\n",
        "    generator = data_generator(train_descriptions, train_features, tokenizer, max_length, vocab_size, batch_size)\n",
        "    model.fit(generator, epochs=1, steps_per_epoch=steps, verbose=1)\n",
        "\n",
        "\n",
        "if not os.path.exists(\"/content/drive/MyDrive/Deep learning/Midterm\"):\n",
        "    os.makedirs(\"/content/drive/MyDrive/Deep learning/Midterm\")\n",
        "\n",
        "model.save(\"/content/drive/MyDrive/Deep learning/Midterm/best_model_1.h5\")"
      ]
    },
    {
      "cell_type": "markdown",
      "source": [
        "# Sinh caption từ ảnh"
      ],
      "metadata": {
        "id": "f6t7lXF1MlKH"
      }
    },
    {
      "cell_type": "code",
      "source": [
        "def idx_to_word(integer, tokenizer):\n",
        "    for word, index in tokenizer.word_index.items():\n",
        "        if index == integer:\n",
        "            return word\n",
        "    return None"
      ],
      "metadata": {
        "id": "YWmDJ1s7Ca4-"
      },
      "execution_count": null,
      "outputs": []
    },
    {
      "cell_type": "code",
      "source": [
        "def predict_caption(model, image, tokenizer, max_length):\n",
        "    in_text = 'startseq'\n",
        "    for i in range(max_length):\n",
        "        seq = tokenizer.texts_to_sequences([in_text])[0]\n",
        "        seq = pad_sequences([seq], maxlen=max_length)\n",
        "        yhat = model.predict([image, seq], verbose=0)\n",
        "        pred_ids = np.argmax(yhat)\n",
        "        word = idx_to_word(pred_ids, tokenizer)\n",
        "        if word is None:\n",
        "            break\n",
        "        in_text += ' ' + word\n",
        "        if word == 'endseq':\n",
        "            break\n",
        "    return in_text"
      ],
      "metadata": {
        "id": "Rf4hM8KfCfJY"
      },
      "execution_count": null,
      "outputs": []
    },
    {
      "cell_type": "code",
      "source": [
        "model = load_model('/content/drive/MyDrive/Deep learning/Midterm/best_model.h5')"
      ],
      "metadata": {
        "id": "8IC24pOj57r5"
      },
      "execution_count": null,
      "outputs": []
    },
    {
      "cell_type": "code",
      "source": [
        "actual, predicted = list(), list()\n",
        "\n",
        "for image in tqdm(test_imgs):\n",
        "  captions = test_descriptions[image]\n",
        "  actual_captions = [caption.split() for caption in captions]\n",
        "\n",
        "  y_pred = predict_caption(model, test_features[image], tokenizer, max_length)\n",
        "  y_pred = y_pred.split()\n",
        "\n",
        "  actual.append(actual_captions)\n",
        "  predicted.append(y_pred)\n",
        "\n",
        "# BLEU score\n",
        "print('BLEU-1: %f' % corpus_bleu(actual, predicted, weights=(1.0, 0, 0, 0)))\n",
        "print('BLEU-1: %f' % corpus_bleu(actual, predicted, weights=(0.5, 0.5, 0, 0)))"
      ],
      "metadata": {
        "id": "bDJTvNo406H1"
      },
      "execution_count": null,
      "outputs": []
    },
    {
      "cell_type": "code",
      "source": [
        "from PIL import Image\n",
        "import matplotlib.pyplot as plt\n",
        "\n",
        "def generate_caption(image_name):\n",
        "    image_path = os.path.join(image_dir, image_name)\n",
        "    image = Image.open(image_path)\n",
        "    descriptions = load_descriptions('./descriptions.txt', train_imgs + test_imgs)\n",
        "    captions = descriptions[image_name]\n",
        "    print('-' * 20 + 'Actual' + '-' * 20)\n",
        "    for caption in captions:\n",
        "        print(caption)\n",
        "    y_pred = predict_caption(model, features[image_name], tokenizer, max_length)\n",
        "    print('-' * 20 + 'Predicted' + '-' * 20)\n",
        "    print(y_pred)\n",
        "    plt.imshow(image)"
      ],
      "metadata": {
        "id": "L0MWCqiaCl9B"
      },
      "execution_count": null,
      "outputs": []
    },
    {
      "cell_type": "code",
      "source": [
        "from random import sample\n",
        "\n",
        "image_name = sample(train_imgs, 1)[0]\n",
        "generate_caption(image_name)"
      ],
      "metadata": {
        "id": "nND9GZWsCtZB",
        "colab": {
          "base_uri": "https://localhost:8080/",
          "height": 417
        },
        "outputId": "c0cd8e25-1847-4490-d38e-1fb8d54325b4"
      },
      "execution_count": null,
      "outputs": [
        {
          "output_type": "stream",
          "name": "stdout",
          "text": [
            "--------------------Actual--------------------\n",
            "startseq một con chó đen trắng đang nô_đùa trong nước endseq\n",
            "startseq một con chó đen và trắng nhảy qua nước endseq\n",
            "startseq một con chó đen trắng chạy trong nước endseq\n",
            "startseq một con chó đen và trắng chạy qua làn nước_trắng một bãi biển endseq\n",
            "startseq con chó đen và trắng đang chạy qua đại_dương endseq\n",
            "--------------------Predicted--------------------\n",
            "startseq một con chó đen và trắng đang chạy trong nước endseq\n"
          ]
        },
        {
          "output_type": "display_data",
          "data": {
            "text/plain": [
              "<Figure size 432x288 with 1 Axes>"
            ],
            "image/png": "[encoded data removed]"
          },
          "metadata": {
            "needs_background": "light"
          }
        }
      ]
    }
  ],
  "metadata": {
    "accelerator": "GPU",
    "colab": {
      "provenance": []
    },
    "gpuClass": "standard",
    "kernelspec": {
      "display_name": "Python 3",
      "name": "python3"
    },
    "language_info": {
      "name": "python"
    }
  },
  "nbformat": 4,
  "nbformat_minor": 0
}